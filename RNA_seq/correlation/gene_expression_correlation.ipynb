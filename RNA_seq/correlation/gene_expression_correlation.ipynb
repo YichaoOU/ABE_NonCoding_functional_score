{
 "cells": [
  {
   "cell_type": "code",
   "execution_count": 1,
   "metadata": {},
   "outputs": [],
   "source": [
    "import pandas as pd\n",
    "import seaborn as sns\n",
    "%matplotlib inline\n",
    "import matplotlib.pyplot as plt\n",
    "import matplotlib.colors as clr\n",
    "import numpy as np\n",
    "from matplotlib.colors import ListedColormap\n",
    "import numpy as np\n",
    "import matplotlib.pyplot as plt\n",
    "from matplotlib import cm\n",
    "from matplotlib.colors import ListedColormap, LinearSegmentedColormap\n",
    "import pandas as pd\n",
    "import matplotlib.pylab as plt\n",
    "import numpy as np\n",
    "import scipy\n",
    "import seaborn as sns\n",
    "import glob"
   ]
  },
  {
   "cell_type": "code",
   "execution_count": 14,
   "metadata": {},
   "outputs": [
    {
     "name": "stderr",
     "output_type": "stream",
     "text": [
      "C:\\ProgramData\\Anaconda3\\lib\\site-packages\\ipykernel_launcher.py:1: FutureWarning: Sorting because non-concatenation axis is not aligned. A future version\n",
      "of pandas will change to not sort by default.\n",
      "\n",
      "To accept the future behavior, pass 'sort=False'.\n",
      "\n",
      "To retain the current behavior and silence the warning, pass 'sort=True'.\n",
      "\n",
      "  \"\"\"Entry point for launching an IPython kernel.\n"
     ]
    }
   ],
   "source": [
    "df = pd.concat([pd.read_csv(x,index_col=0) for x in glob.glob(\"*.csv\")],axis=1)"
   ]
  },
  {
   "cell_type": "code",
   "execution_count": 15,
   "metadata": {},
   "outputs": [
    {
     "data": {
      "text/plain": [
       "False"
      ]
     },
     "execution_count": 15,
     "metadata": {},
     "output_type": "execute_result"
    }
   ],
   "source": [
    "df.isnull().any().any()"
   ]
  },
  {
   "cell_type": "code",
   "execution_count": 16,
   "metadata": {},
   "outputs": [
    {
     "data": {
      "text/html": [
       "<div>\n",
       "<style scoped>\n",
       "    .dataframe tbody tr th:only-of-type {\n",
       "        vertical-align: middle;\n",
       "    }\n",
       "\n",
       "    .dataframe tbody tr th {\n",
       "        vertical-align: top;\n",
       "    }\n",
       "\n",
       "    .dataframe thead th {\n",
       "        text-align: right;\n",
       "    }\n",
       "</style>\n",
       "<table border=\"1\" class=\"dataframe\">\n",
       "  <thead>\n",
       "    <tr style=\"text-align: right;\">\n",
       "      <th></th>\n",
       "      <th>Gene ID</th>\n",
       "      <th>Gene Name</th>\n",
       "      <th>1000003_RFR004_S4.tpm</th>\n",
       "      <th>1000001_RFR002_S2.tpm</th>\n",
       "      <th>Gene ID</th>\n",
       "      <th>Gene Name</th>\n",
       "      <th>1788283_H2_ABEmax.tpm</th>\n",
       "      <th>1686607_H2_ABEmax_RNAseq.tpm</th>\n",
       "    </tr>\n",
       "  </thead>\n",
       "  <tbody>\n",
       "    <tr>\n",
       "      <th>ENST00000000233</th>\n",
       "      <td>ENSG00000004059</td>\n",
       "      <td>ARF5-001</td>\n",
       "      <td>43.2887</td>\n",
       "      <td>43.9042</td>\n",
       "      <td>ENSG00000004059</td>\n",
       "      <td>ARF5</td>\n",
       "      <td>41.21790</td>\n",
       "      <td>60.24190</td>\n",
       "    </tr>\n",
       "    <tr>\n",
       "      <th>ENST00000000412</th>\n",
       "      <td>ENSG00000003056</td>\n",
       "      <td>M6PR-001</td>\n",
       "      <td>97.7853</td>\n",
       "      <td>94.1364</td>\n",
       "      <td>ENSG00000003056</td>\n",
       "      <td>M6PR</td>\n",
       "      <td>104.83700</td>\n",
       "      <td>106.77800</td>\n",
       "    </tr>\n",
       "    <tr>\n",
       "      <th>ENST00000000442</th>\n",
       "      <td>ENSG00000173153</td>\n",
       "      <td>ESRRA-002</td>\n",
       "      <td>12.2829</td>\n",
       "      <td>10.6893</td>\n",
       "      <td>ENSG00000173153</td>\n",
       "      <td>ESRRA</td>\n",
       "      <td>6.98996</td>\n",
       "      <td>8.87649</td>\n",
       "    </tr>\n",
       "    <tr>\n",
       "      <th>ENST00000001008</th>\n",
       "      <td>ENSG00000004478</td>\n",
       "      <td>FKBP4-001</td>\n",
       "      <td>209.6020</td>\n",
       "      <td>204.7310</td>\n",
       "      <td>ENSG00000004478</td>\n",
       "      <td>FKBP4</td>\n",
       "      <td>163.16400</td>\n",
       "      <td>174.55100</td>\n",
       "    </tr>\n",
       "    <tr>\n",
       "      <th>ENST00000001146</th>\n",
       "      <td>ENSG00000003137</td>\n",
       "      <td>CYP26B1-001</td>\n",
       "      <td>0.0000</td>\n",
       "      <td>0.0000</td>\n",
       "      <td>ENSG00000003137</td>\n",
       "      <td>CYP26B1</td>\n",
       "      <td>0.00000</td>\n",
       "      <td>0.00558</td>\n",
       "    </tr>\n",
       "  </tbody>\n",
       "</table>\n",
       "</div>"
      ],
      "text/plain": [
       "                         Gene ID    Gene Name  1000003_RFR004_S4.tpm  \\\n",
       "ENST00000000233  ENSG00000004059     ARF5-001                43.2887   \n",
       "ENST00000000412  ENSG00000003056     M6PR-001                97.7853   \n",
       "ENST00000000442  ENSG00000173153    ESRRA-002                12.2829   \n",
       "ENST00000001008  ENSG00000004478    FKBP4-001               209.6020   \n",
       "ENST00000001146  ENSG00000003137  CYP26B1-001                 0.0000   \n",
       "\n",
       "                 1000001_RFR002_S2.tpm          Gene ID Gene Name  \\\n",
       "ENST00000000233                43.9042  ENSG00000004059      ARF5   \n",
       "ENST00000000412                94.1364  ENSG00000003056      M6PR   \n",
       "ENST00000000442                10.6893  ENSG00000173153     ESRRA   \n",
       "ENST00000001008               204.7310  ENSG00000004478     FKBP4   \n",
       "ENST00000001146                 0.0000  ENSG00000003137   CYP26B1   \n",
       "\n",
       "                 1788283_H2_ABEmax.tpm  1686607_H2_ABEmax_RNAseq.tpm  \n",
       "ENST00000000233               41.21790                      60.24190  \n",
       "ENST00000000412              104.83700                     106.77800  \n",
       "ENST00000000442                6.98996                       8.87649  \n",
       "ENST00000001008              163.16400                     174.55100  \n",
       "ENST00000001146                0.00000                       0.00558  "
      ]
     },
     "execution_count": 16,
     "metadata": {},
     "output_type": "execute_result"
    }
   ],
   "source": [
    "df.head()"
   ]
  },
  {
   "cell_type": "code",
   "execution_count": 17,
   "metadata": {},
   "outputs": [],
   "source": [
    "sel_cols = []\n",
    "for i in df.columns:\n",
    "    if \".tpm\" in i:\n",
    "        sel_cols.append(i)"
   ]
  },
  {
   "cell_type": "code",
   "execution_count": 18,
   "metadata": {},
   "outputs": [
    {
     "data": {
      "text/plain": [
       "['1000003_RFR004_S4.tpm',\n",
       " '1000001_RFR002_S2.tpm',\n",
       " '1788283_H2_ABEmax.tpm',\n",
       " '1686607_H2_ABEmax_RNAseq.tpm']"
      ]
     },
     "execution_count": 18,
     "metadata": {},
     "output_type": "execute_result"
    }
   ],
   "source": [
    "sel_cols"
   ]
  },
  {
   "cell_type": "code",
   "execution_count": 20,
   "metadata": {},
   "outputs": [],
   "source": [
    "df = df[sel_cols]"
   ]
  },
  {
   "cell_type": "code",
   "execution_count": 21,
   "metadata": {},
   "outputs": [],
   "source": [
    "df.columns = [\"H2.r1\",\"H2.r2\",\"ABE.r2\",\"ABE.r1\"]"
   ]
  },
  {
   "cell_type": "code",
   "execution_count": 22,
   "metadata": {},
   "outputs": [
    {
     "data": {
      "text/plain": [
       "'0.9.0'"
      ]
     },
     "execution_count": 22,
     "metadata": {},
     "output_type": "execute_result"
    }
   ],
   "source": [
    "sns.__version__"
   ]
  },
  {
   "cell_type": "code",
   "execution_count": 24,
   "metadata": {},
   "outputs": [
    {
     "data": {
      "text/plain": [
       "<seaborn.matrix.ClusterGrid at 0x212ddc0c828>"
      ]
     },
     "execution_count": 24,
     "metadata": {},
     "output_type": "execute_result"
    },
    {
     "data": {
      "image/png": "[encoded data removed]",
      "text/plain": [
       "<Figure size 720x720 with 4 Axes>"
      ]
     },
     "metadata": {},
     "output_type": "display_data"
    }
   ],
   "source": [
    "sns.set(font_scale=2)\n",
    "sns.clustermap(df[[\"H2.r1\",\"H2.r2\",\"ABE.r2\",\"ABE.r1\"]].corr(method=\"pearson\"),annot=True,annot_kws={\"size\": 15},linewidths=1,cmap=\"Reds\",vmin=0.82,method=\"average\",metric=\"sqeuclidean\")\n",
    "\n"
   ]
  }
 ],
 "metadata": {
  "kernelspec": {
   "display_name": "Base-python3",
   "language": "python",
   "name": "base-python3"
  },
  "language_info": {
   "codemirror_mode": {
    "name": "ipython",
    "version": 3
   },
   "file_extension": ".py",
   "mimetype": "text/x-python",
   "name": "python",
   "nbconvert_exporter": "python",
   "pygments_lexer": "ipython3",
   "version": "3.7.1"
  }
 },
 "nbformat": 4,
 "nbformat_minor": 2
}
