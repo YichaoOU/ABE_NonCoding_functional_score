{
 "cells": [
  {
   "cell_type": "code",
   "execution_count": 10,
   "metadata": {},
   "outputs": [],
   "source": [
    "import pandas as pd\n",
    "import seaborn as sns\n",
    "%matplotlib inline\n",
    "import matplotlib.pyplot as plt\n",
    "import matplotlib.colors as clr\n",
    "import numpy as np\n",
    "from matplotlib.colors import ListedColormap\n",
    "import numpy as np\n",
    "import matplotlib.pyplot as plt\n",
    "from matplotlib import cm\n",
    "from matplotlib.colors import ListedColormap, LinearSegmentedColormap\n",
    "import pandas as pd\n",
    "import matplotlib.pylab as plt\n",
    "import numpy as np\n",
    "import scipy\n",
    "import seaborn as sns\n",
    "import glob"
   ]
  },
  {
   "cell_type": "code",
   "execution_count": 11,
   "metadata": {},
   "outputs": [],
   "source": [
    "chang_2016 = pd.read_csv(\"chang_2016.list\",header=None)[0].tolist()"
   ]
  },
  {
   "cell_type": "code",
   "execution_count": 12,
   "metadata": {},
   "outputs": [
    {
     "name": "stderr",
     "output_type": "stream",
     "text": [
      "C:\\ProgramData\\Anaconda3\\lib\\site-packages\\scipy\\stats\\stats.py:1713: FutureWarning: Using a non-tuple sequence for multidimensional indexing is deprecated; use `arr[tuple(seq)]` instead of `arr[seq]`. In the future this will be interpreted as an array index, `arr[np.array(seq)]`, which will result either in an error or a different result.\n",
      "  return np.add.reduce(sorted[indexer] * weights, axis=axis) / sumval\n"
     ]
    },
    {
     "data": {
      "text/plain": [
       "<matplotlib.axes._subplots.AxesSubplot at 0x26e16564240>"
      ]
     },
     "execution_count": 12,
     "metadata": {},
     "output_type": "execute_result"
    },
    {
     "data": {
      "image/png": "[encoded data removed]",
      "text/plain": [
       "<Figure size 432x288 with 1 Axes>"
      ]
     },
     "metadata": {
      "needs_background": "light"
     },
     "output_type": "display_data"
    }
   ],
   "source": [
    "def define_group(x):\n",
    "    flag = False\n",
    "    for i in chang_2016:\n",
    "        if i in x:\n",
    "            flag = True\n",
    "    for i in ['CD49','CD71']:\n",
    "        if i in x:\n",
    "            flag = True\n",
    "    if not flag:\n",
    "        return \"others\"\n",
    "    if \"acute\" in x:\n",
    "        return \"others\"\n",
    "    out = \"_\".join(x.split(\"_\")[-2:]).replace(\".rmdup.bed\",\"\").replace(\"cell_\",\"\")\n",
    "    if out == \"Bone_Marrow\":\n",
    "        out = \"BM_CD34\"\n",
    "    if out == \"Cord_Blood\":\n",
    "        out = \"CB_CD34\"\n",
    "    if out == \"Ery\":\n",
    "        out = \"others\"        \n",
    "    if out == \"CD71minus_CD235minus\":\n",
    "        out = 'MyP'\n",
    "    if \"CD49\" in out or \"CD71\" in out:\n",
    "        out = 'CB_Ery'\n",
    "    return out\n",
    "df = pd.read_csv(\"blood_ATAC_bw_mean.tsv\",sep=\"\\t\",index_col=0)\n",
    "df = df+1e-300\n",
    "df = ( df/df.sum())*1000000 ## RPM\n",
    "col_names = [define_group(x) for x in df.columns] \n",
    "df = df.T\n",
    "df['group']= col_names    \n",
    "df = df[df['group']!='others']\n",
    "mean_exp = df.groupby('group').mean()\n",
    "group_df = mean_exp/mean_exp.sum()\n",
    "def z_score(x):\n",
    "    ery = x['CB_Ery']\n",
    "    return (ery - x.mean())/x.std()\n",
    "group_df = group_df.T\n",
    "group_df['Z-score'] = group_df.apply(z_score,axis=1)\n",
    "sns.distplot(group_df['Z-score'])"
   ]
  },
  {
   "cell_type": "code",
   "execution_count": 13,
   "metadata": {},
   "outputs": [],
   "source": [
    "def rename(x):\n",
    "    chr,temp = x.split(\":\")\n",
    "    start,end = temp.split(\"-\")\n",
    "    start = int(start)+10\n",
    "    end = int(end)-10\n",
    "    return \"%s:%s-%s\"%(chr,start,end)\n",
    "group_df.index = [rename(x) for x in group_df.index.tolist()]"
   ]
  },
  {
   "cell_type": "code",
   "execution_count": 14,
   "metadata": {},
   "outputs": [],
   "source": [
    "group_df.sort_values('Z-score',ascending=False).to_csv(\"Ery_z_score.csv\")"
   ]
  }
 ],
 "metadata": {
  "kernelspec": {
   "display_name": "Base-python3",
   "language": "python",
   "name": "base-python3"
  },
  "language_info": {
   "codemirror_mode": {
    "name": "ipython",
    "version": 3
   },
   "file_extension": ".py",
   "mimetype": "text/x-python",
   "name": "python",
   "nbconvert_exporter": "python",
   "pygments_lexer": "ipython3",
   "version": "3.7.1"
  }
 },
 "nbformat": 4,
 "nbformat_minor": 2
}
